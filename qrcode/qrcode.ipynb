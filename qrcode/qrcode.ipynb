{
 "cells": [
  {
   "cell_type": "code",
   "execution_count": 16,
   "metadata": {},
   "outputs": [],
   "source": [
    "import segno\n",
    "\n",
    "qrcode = segno.make('www.google.com', version=7, error='h')\n",
    "\n",
    "qrcode.save('qrcode_yellow-submarine.png', scale=4, \n",
    "            dark='LimeGreen',\n",
    "            data_dark='Black', \n",
    "            data_light='LimeGreen',\n",
    "            alignment_light=\"White\",\n",
    "            quiet_zone=\"Black\")"
   ]
  },
  {
   "cell_type": "code",
   "execution_count": 26,
   "metadata": {},
   "outputs": [],
   "source": [
    "import segno\n",
    "\n",
    "qrcode = segno.make('https://g.page/r/CV3fN5BnSageEB0/review', error='h')\n",
    "\n",
    "qrcode.to_artistic(background='grupeto-cais-square.png', target='qrcode_grupeto-cais-square.png.png', scale=7)"
   ]
  },
  {
   "cell_type": "code",
   "execution_count": 21,
   "metadata": {},
   "outputs": [],
   "source": [
    "import segno\n",
    "\n",
    "qrcode = segno.make('https://g.page/r/CV3fN5BnSageEB0/review', error='h')\n",
    "\n",
    "qrcode.to_artistic(background='grupeto-expo-square.png', target='qrcode_grupeto-expo-square.png', scale=7)"
   ]
  }
 ],
 "metadata": {
  "language_info": {
   "name": "python"
  }
 },
 "nbformat": 4,
 "nbformat_minor": 2
}
